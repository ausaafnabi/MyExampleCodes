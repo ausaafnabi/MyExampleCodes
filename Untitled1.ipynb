{
  "nbformat": 4,
  "nbformat_minor": 0,
  "metadata": {
    "colab": {
      "name": "Untitled1.ipynb",
      "provenance": [],
      "include_colab_link": true
    },
    "kernelspec": {
      "name": "python3",
      "display_name": "Python 3"
    }
  },
  "cells": [
    {
      "cell_type": "markdown",
      "metadata": {
        "id": "view-in-github",
        "colab_type": "text"
      },
      "source": [
        "<a href=\"https://colab.research.google.com/github/ausaafnabi/MyExampleCodes/blob/master/Untitled1.ipynb\" target=\"_parent\"><img src=\"https://colab.research.google.com/assets/colab-badge.svg\" alt=\"Open In Colab\"/></a>"
      ]
    },
    {
      "cell_type": "code",
      "metadata": {
        "id": "clt5nGyXkUZA",
        "colab_type": "code",
        "colab": {
          "base_uri": "https://localhost:8080/",
          "height": 462
        },
        "outputId": "3ec66158-3b26-446e-91db-7b03163f8fb1"
      },
      "source": [
        "import matplotlib\n",
        "import matplotlib.pyplot as plt\n",
        "import numpy as np\n",
        "import pandas as pd\n",
        "import sklearn\n",
        "\n",
        "#Load the data\n",
        "oecd_bli = pd.read_csv(\"oecd_bli_2015.csv\",thousands=',')\n",
        "gdp_per_captia = pd.read_csv(\"gdp_per_captia.csv\",thousands=',',delimiter='\\t',\n",
        "                             encoding='latin1',na_values=\"n/a\")\n",
        "#Prepare data\n",
        "country_stats = prepare_country_stats(oced_bli,gdp_per_captia)\n",
        "x = np.c_[country_stats[\"GDP per captia\"]]\n",
        "y = mp.c_[country_stats[\"Life satisfaction\"]]\n",
        "\n",
        "#Visualize the data\n",
        "country_stats.plot(kind='scatter',x=\"GDP per captia\",y='Life satisfaction')\n",
        "plt.show()\n",
        "\n",
        "#Select a linear model\n",
        "model = sklearn.linear_model.LinearReegression()\n",
        "\n",
        "#Train the model\n",
        "model.fit(x,y)\n",
        "x_new = [[22587]]\n",
        "print(model.predict(x_new))"
      ],
      "execution_count": 3
     
    }
  ]
}
